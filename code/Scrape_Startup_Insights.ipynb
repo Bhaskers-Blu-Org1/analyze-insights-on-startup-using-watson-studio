{
 "cells": [
  {
   "cell_type": "markdown",
   "metadata": {},
   "source": [
    "# Visualize and Analyze Startup Data"
   ]
  },
  {
   "cell_type": "markdown",
   "metadata": {},
   "source": [
    "## 1. Setup\n",
    "\n",
    "To prepare your environment, you need to install some packages and enter credentials for the Watson services."
   ]
  },
  {
   "cell_type": "markdown",
   "metadata": {},
   "source": [
    "## 1.1 Install the necessary packages"
   ]
  },
  {
   "cell_type": "markdown",
   "metadata": {},
   "source": [
    "### Install Watson Developer Cloud Package"
   ]
  },
  {
   "cell_type": "code",
   "execution_count": 23,
   "metadata": {},
   "outputs": [
    {
     "name": "stdout",
     "output_type": "stream",
     "text": [
      "Requirement not upgraded as not directly required: watson-developer-cloud==1.5 in /opt/conda/envs/DSX-Python35/lib/python3.5/site-packages\n",
      "Requirement not upgraded as not directly required: Twisted>=13.2.0 in /opt/conda/envs/DSX-Python35/lib/python3.5/site-packages (from watson-developer-cloud==1.5)\n",
      "Requirement not upgraded as not directly required: service-identity>=17.0.0 in /opt/conda/envs/DSX-Python35/lib/python3.5/site-packages (from watson-developer-cloud==1.5)\n",
      "Requirement not upgraded as not directly required: pyOpenSSL>=16.2.0 in /opt/conda/envs/DSX-Python35/lib/python3.5/site-packages (from watson-developer-cloud==1.5)\n",
      "Requirement not upgraded as not directly required: requests<3.0,>=2.0 in /opt/conda/envs/DSX-Python35/lib/python3.5/site-packages (from watson-developer-cloud==1.5)\n",
      "Requirement not upgraded as not directly required: python-dateutil>=2.5.3 in /opt/conda/envs/DSX-Python35/lib/python3.5/site-packages (from watson-developer-cloud==1.5)\n",
      "Requirement not upgraded as not directly required: autobahn>=0.10.9 in /opt/conda/envs/DSX-Python35/lib/python3.5/site-packages (from watson-developer-cloud==1.5)\n",
      "Requirement not upgraded as not directly required: zope.interface>=4.4.2 in /opt/conda/envs/DSX-Python35/lib/python3.5/site-packages (from Twisted>=13.2.0->watson-developer-cloud==1.5)\n",
      "Requirement not upgraded as not directly required: PyHamcrest>=1.9.0 in /opt/conda/envs/DSX-Python35/lib/python3.5/site-packages (from Twisted>=13.2.0->watson-developer-cloud==1.5)\n",
      "Requirement not upgraded as not directly required: attrs>=17.4.0 in /opt/conda/envs/DSX-Python35/lib/python3.5/site-packages (from Twisted>=13.2.0->watson-developer-cloud==1.5)\n",
      "Requirement not upgraded as not directly required: constantly>=15.1 in /opt/conda/envs/DSX-Python35/lib/python3.5/site-packages (from Twisted>=13.2.0->watson-developer-cloud==1.5)\n",
      "Requirement not upgraded as not directly required: Automat>=0.3.0 in /opt/conda/envs/DSX-Python35/lib/python3.5/site-packages (from Twisted>=13.2.0->watson-developer-cloud==1.5)\n",
      "Requirement not upgraded as not directly required: hyperlink>=17.1.1 in /opt/conda/envs/DSX-Python35/lib/python3.5/site-packages (from Twisted>=13.2.0->watson-developer-cloud==1.5)\n",
      "Requirement not upgraded as not directly required: incremental>=16.10.1 in /opt/conda/envs/DSX-Python35/lib/python3.5/site-packages (from Twisted>=13.2.0->watson-developer-cloud==1.5)\n",
      "Requirement not upgraded as not directly required: pyasn1-modules in /opt/conda/envs/DSX-Python35/lib/python3.5/site-packages (from service-identity>=17.0.0->watson-developer-cloud==1.5)\n",
      "Requirement not upgraded as not directly required: pyasn1 in /opt/conda/envs/DSX-Python35/lib/python3.5/site-packages (from service-identity>=17.0.0->watson-developer-cloud==1.5)\n",
      "Requirement not upgraded as not directly required: cryptography in /opt/conda/envs/DSX-Python35/lib/python3.5/site-packages (from service-identity>=17.0.0->watson-developer-cloud==1.5)\n",
      "Requirement not upgraded as not directly required: six>=1.5.2 in /opt/conda/envs/DSX-Python35/lib/python3.5/site-packages (from pyOpenSSL>=16.2.0->watson-developer-cloud==1.5)\n",
      "Requirement not upgraded as not directly required: chardet<3.1.0,>=3.0.2 in /opt/conda/envs/DSX-Python35/lib/python3.5/site-packages (from requests<3.0,>=2.0->watson-developer-cloud==1.5)\n",
      "Requirement not upgraded as not directly required: idna<2.7,>=2.5 in /opt/conda/envs/DSX-Python35/lib/python3.5/site-packages (from requests<3.0,>=2.0->watson-developer-cloud==1.5)\n",
      "Requirement not upgraded as not directly required: urllib3<1.23,>=1.21.1 in /opt/conda/envs/DSX-Python35/lib/python3.5/site-packages (from requests<3.0,>=2.0->watson-developer-cloud==1.5)\n",
      "Requirement not upgraded as not directly required: certifi>=2017.4.17 in /opt/conda/envs/DSX-Python35/lib/python3.5/site-packages (from requests<3.0,>=2.0->watson-developer-cloud==1.5)\n",
      "Requirement not upgraded as not directly required: txaio>=18.8.1 in /opt/conda/envs/DSX-Python35/lib/python3.5/site-packages (from autobahn>=0.10.9->watson-developer-cloud==1.5)\n",
      "Requirement not upgraded as not directly required: setuptools in /opt/conda/envs/DSX-Python35/lib/python3.5/site-packages (from zope.interface>=4.4.2->Twisted>=13.2.0->watson-developer-cloud==1.5)\n",
      "Requirement not upgraded as not directly required: asn1crypto>=0.21.0 in /opt/conda/envs/DSX-Python35/lib/python3.5/site-packages (from cryptography->service-identity>=17.0.0->watson-developer-cloud==1.5)\n",
      "Requirement not upgraded as not directly required: cffi>=1.7 in /opt/conda/envs/DSX-Python35/lib/python3.5/site-packages (from cryptography->service-identity>=17.0.0->watson-developer-cloud==1.5)\n",
      "Requirement not upgraded as not directly required: pycparser in /opt/conda/envs/DSX-Python35/lib/python3.5/site-packages (from cffi>=1.7->cryptography->service-identity>=17.0.0->watson-developer-cloud==1.5)\n"
     ]
    }
   ],
   "source": [
    "!pip install watson-developer-cloud==1.5"
   ]
  },
  {
   "cell_type": "markdown",
   "metadata": {},
   "source": [
    "### Install IBM Database Server Python Package"
   ]
  },
  {
   "cell_type": "code",
   "execution_count": 24,
   "metadata": {},
   "outputs": [
    {
     "name": "stdout",
     "output_type": "stream",
     "text": [
      "Requirement not upgraded as not directly required: ibm_db in /opt/conda/envs/DSX-Python35/lib/python3.5/site-packages\r\n"
     ]
    }
   ],
   "source": [
    "!pip install ibm_db"
   ]
  },
  {
   "cell_type": "markdown",
   "metadata": {},
   "source": [
    "## 1.2 Import packages and libraries\n",
    "\n",
    "Import the packages and libraries that you'll use:"
   ]
  },
  {
   "cell_type": "code",
   "execution_count": 25,
   "metadata": {},
   "outputs": [],
   "source": [
    "from bs4 import BeautifulSoup\n",
    "import requests\n",
    "import time\n",
    "from random import randint\n",
    "from IPython.display import display, HTML\n",
    "#import selenium\n",
    "#from selenium import webdriver\n",
    "import re\n",
    "import pandas as pd\n",
    "\n",
    "from watson_developer_cloud import NaturalLanguageUnderstandingV1\n",
    "from watson_developer_cloud.natural_language_understanding_v1 \\\n",
    "  import Features, EntitiesOptions, KeywordsOptions, SemanticRolesOptions, SentimentOptions, EmotionOptions, ConceptsOptions, CategoriesOptions\n",
    "\n",
    "import ibm_boto3\n",
    "from botocore.client import Config\n",
    "\n",
    "\n",
    "import json\n",
    "import nltk\n",
    "import csv\n",
    "import ibm_db\n",
    "import sys\n",
    "if sys.version_info[0] < 3: \n",
    "    from StringIO import StringIO\n",
    "else:\n",
    "    from io import StringIO\n",
    "from io import BytesIO"
   ]
  },
  {
   "cell_type": "markdown",
   "metadata": {},
   "source": [
    "## 2. Configuration\n",
    "\n",
    "Add configurable items of the notebook below"
   ]
  },
  {
   "cell_type": "markdown",
   "metadata": {},
   "source": [
    "## 2.1 Add your service credentials from IBM Natural Language Understanding service\n",
    "You must create a Watson Natural Language Understanding service on IBM Cloud. Create a service for Natural Language Understanding (NLU). Insert the apikey and url values in the variables, for your NLU in the following cell. Do not change the values of the version fields.\n",
    "\n",
    "Run the cell."
   ]
  },
  {
   "cell_type": "code",
   "execution_count": null,
   "metadata": {},
   "outputs": [],
   "source": [
    "apikey=''\n",
    "url=''\n",
    "natural_language_understanding = NaturalLanguageUnderstandingV1(\n",
    "    version='2018-03-16',\n",
    "    iam_api_key=apikey,\n",
    "    url=url\n",
    ")"
   ]
  },
  {
   "cell_type": "markdown",
   "metadata": {},
   "source": [
    "## 2.2 Add your service credentials for DB2\n",
    "\n",
    "Insert the DB2 service credentials as credentials_1 in the following cell."
   ]
  },
  {
   "cell_type": "code",
   "execution_count": 27,
   "metadata": {},
   "outputs": [],
   "source": [
    "\n",
    "# @hidden_cell\n",
    "# The following code contains the credentials for a connection in your Project.\n",
    "# You might want to remove those credentials before you share your notebook.\n",
    "credentials_1 = {\n",
    "    \n",
    "}\n"
   ]
  },
  {
   "cell_type": "markdown",
   "metadata": {},
   "source": [
    "## 3. Scrape Startup Information\n",
    "\n",
    "Scrapes data based on its appears on google for the following -\n",
    "\n",
    "* How many times it has appeared on News?\n",
    "* Whether it has a Wikipedia page or not?\n",
    "* Whether they have Tech blogs or not?\n",
    "* Whether they are active on Social Media (Twitter, Medium, etc..)?\n",
    "\n",
    "`Note: The Company Names have been Anonymised and replaced with names of Plants. This Pattern does not wish to put down any Company, only provides a methodology to perform Analytics on any given Data from the Web.`"
   ]
  },
  {
   "cell_type": "code",
   "execution_count": null,
   "metadata": {},
   "outputs": [],
   "source": [
    "company_name_links=['https://www.goodfirms.co/artificial-intelligence/machine-learning?sort_by=Any&rate=&location=in&employees=','https://www.goodfirms.co/directory/country/list-blockchain-technology-companies/india']"
   ]
  },
  {
   "cell_type": "code",
   "execution_count": null,
   "metadata": {},
   "outputs": [],
   "source": [
    "def DisplayHtml(htmlText):\n",
    "    htmlTxt = HTML(htmlText)\n",
    "    # or chart = charts.plot(...)\n",
    "    display(htmlTxt)\n",
    "\n",
    "\n",
    "def scrape_top_companies(link):\n",
    "    time.sleep(randint(0, 2))  # relax and don't let google be angry\n",
    "    #r = requests.get(\"http://www.google.co.uk/search?q=\"+s+\"&tbm=nws\")\n",
    "    r = requests.get('https://www.goodfirms.co/artificial-intelligence/machine-learning?sort_by=Any&rate=&location=in&employees=')\n",
    "    #r = requests.get(\"https://www.google.co.in/search?q=\"+s+\"&oq=\"+s+\"&aqs=chrome..69i57.14096j0j9&sourceid=chrome&ie=UTF-8\")\n",
    "    print(r.status_code)  # Print the status code\n",
    "    content = r.text\n",
    "    #DisplayHtml(content)\n",
    "    company_names = []\n",
    "    company_desc=[]\n",
    "    soup = BeautifulSoup(content, \"html.parser\")\n",
    "    #st_divs = soup.findAll(\"div\", {\"class\": \"st\"})\n",
    "    #st_divs = soup.findAll(\"a\", {\"class\": \"l _PMs\"})\n",
    "\n",
    "    for item in soup.find_all('h3'):\n",
    "        for post in item.find_all('a'):\n",
    "            company_names.append(post.text)\n",
    "    for item in soup.find_all('p',{'class':'nofollow padding-top-10 no-margin'}):\n",
    "        company_desc.append(item.text)\n",
    "    company_links=[]\n",
    "    for data in soup.find_all('div',{'class':'visit-website-div nofollow'}):\n",
    "        for a in data.find_all('a'):\n",
    "            company_links.append(a.get('href'))\n",
    "    \n",
    "    print(len(company_names),len(company_desc))\n",
    "    return company_names,company_desc,company_links\n"
   ]
  },
  {
   "cell_type": "code",
   "execution_count": null,
   "metadata": {},
   "outputs": [],
   "source": [
    "company_list_final=[]\n",
    "dummy_names = ['Wildflower', 'Thistle', 'Flower', 'Herb', 'Mushroom', 'Weed', 'Fern', 'Cattail', 'Reed', 'Bamboo', 'Ivy', 'Shrub', 'Moss', 'Grass', 'Palm tree', 'Bush', 'Corn', 'Tree', 'Tulip', 'Daffodil', 'Poppy', 'Sunflower', 'Bluebell', 'Rose', 'Snowdrop', 'Cherry blossom', 'Orchid', 'Iris', 'Peony', 'Chrysanthemum', 'Geranium', 'Lily', 'Lotus', 'Water lily', 'Dandelion']\n",
    "link='https://www.goodfirms.co/artificial-intelligence/machine-learning?sort_by=Any&rate=&location=in&employees='\n",
    "company_names,company_desc,company_links=scrape_top_companies(link)\n",
    "for i in range(len(company_names)):\n",
    "    temp=dict()\n",
    "    temp[dummy_names[i]]=[company_desc[i],company_links[i]]\n",
    "    company_list_final.append(temp)\n",
    "company_list_final"
   ]
  },
  {
   "cell_type": "code",
   "execution_count": null,
   "metadata": {},
   "outputs": [],
   "source": [
    "def scrape_news_summaries_google(s):\n",
    "    time.sleep(randint(0, 2))  # relax and don't let google be angry\n",
    "    r = requests.get(\"https://www.google.co.in/search?q=\"+s+\"&oq=\"+s+\"&aqs=chrome..69i57.14096j0j9&sourceid=chrome&ie=UTF-8\")\n",
    "    print(r.status_code)  # Print the status code\n",
    "    content = r.text\n",
    "    news_items=[]\n",
    "    \n",
    "    soup = BeautifulSoup(content, \"html.parser\")\n",
    "\n",
    "    for item in soup.find_all(class_='g'):\n",
    "        news_dict=dict()\n",
    "        for link in item.find_all('a'):\n",
    "            news_dict['news_link']= link.get('href')\n",
    "        for summary in item.find_all('span',class_=\"st\"): \n",
    "            news_dict['summary']=summary.text\n",
    "        news_items.append(news_dict)\n",
    "    return news_items\n",
    "\n"
   ]
  },
  {
   "cell_type": "code",
   "execution_count": null,
   "metadata": {},
   "outputs": [],
   "source": [
    "final_rows=[]\n",
    "val=dict()\n",
    "for c in company_list_final:\n",
    "    for key,value in c.items():\n",
    "        s='\"'+key+'\"'+'company economic times'\n",
    "        inner_dict=dict()\n",
    "        temp=[]\n",
    "        temp= temp + scrape_news_summaries_google(s)\n",
    "        inner_dict['Description']=value[0]\n",
    "        inner_dict['Company_Link']=value[1]\n",
    "        inner_dict['News_Items']=temp\n",
    "        val[key]=inner_dict\n",
    "        final_rows.append(val)\n",
    "        val=dict()"
   ]
  },
  {
   "cell_type": "code",
   "execution_count": null,
   "metadata": {},
   "outputs": [],
   "source": [
    "final_rows[0]"
   ]
  },
  {
   "cell_type": "code",
   "execution_count": null,
   "metadata": {},
   "outputs": [],
   "source": [
    "def split_sentences(text):\n",
    "    \"\"\" Split text into sentences.\n",
    "    \"\"\"\n",
    "    sentence_delimiters = re.compile(u'[\\\\[\\\\]\\n.!?]')\n",
    "    sentences = sentence_delimiters.split(text)\n",
    "    return sentences\n",
    "\n",
    "def split_into_tokens(text):\n",
    "    \"\"\" Split text into tokens.\n",
    "    \"\"\"\n",
    "    tokens = nltk.word_tokenize(text)\n",
    "    return tokens\n",
    "\n",
    "def load_string(fileobject):\n",
    "    '''Load the file contents into a Python string'''\n",
    "    text = fileobject.read()\n",
    "    return text.decode('utf-8')\n",
    "\n",
    "def POS_tagging(text):\n",
    "    \"\"\" Generate Part of speech tagging of the text.\n",
    "    \"\"\"\n",
    "    POSofText = nltk.tag.pos_tag(text)\n",
    "    return POSofText\n",
    "\n",
    "def resolve_coreference(text, config):\n",
    "    \"\"\" Resolve coreferences in the text for Nouns that are Subjects in a sentence\n",
    "    \"\"\"\n",
    "    sentenceList = split_sentences(text)\n",
    "    referenceSubject = ''\n",
    "    sentenceText = ''\n",
    "    configjson = json.loads(config)\n",
    "    \n",
    "    for sentences in sentenceList:    \n",
    "        tokens = split_into_tokens(sentences)   \n",
    "        postags = POS_tagging(tokens)\n",
    "        sentencetags = chunk_sentence(postags)\n",
    "        subjects = find_subject(sentencetags)\n",
    "        for rules in configjson['configuration']['coreference']['rules']:\n",
    "            if (rules['type'] == 'chunking'):\n",
    "                for tags in rules['chunk']:\n",
    "                    chunktags = chunk_tagging(tags['tag'],tags['pattern'],postags)\n",
    "                    if (len(chunktags)>0):\n",
    "                        for words in chunktags:\n",
    "                            if tags['tag'] == 'PRP':\n",
    "                                if subjects == '':\n",
    "                                    sentenceText = sentenceText+sentences.replace(words,referenceSubject)+'. '\n",
    "                            elif tags['tag'] == 'NAME':\n",
    "                                if words == subjects:\n",
    "                                    referenceSubject = words\n",
    "                                    sentenceText = sentenceText+sentences+'. '\n",
    "                    \n",
    "    return sentenceText\n",
    "\n",
    "def chunk_sentence(text):\n",
    "    \"\"\" Tag the sentence using chunking.\n",
    "    \"\"\"\n",
    "    grammar = \"\"\"\n",
    "      NP: {<DT|JJ|PRP|NN.*>+} # Chunk sequences of DT,JJ,NN\n",
    "          #}<VB*|DT|JJ|RB|PRP><NN.*>+{  # Chink sequences of VB,DT,JJ,NN       \n",
    "      PP: {<IN><NP>}               # Chunk prepositions followed by NP\n",
    "      V: {<V.*>}                   # Verb      \n",
    "      VP: {<VB*><NP|PP|CLAUSE>+}  # Chunk verbs and their arguments\n",
    "      CLAUSE: {<NP><VP>}           # Chunk NP, VP\n",
    "      \"\"\"  \n",
    "    parsed_cp = nltk.RegexpParser(grammar,loop=2)\n",
    "    pos_cp = parsed_cp.parse(text)\n",
    "    return pos_cp\n",
    "\n",
    "def find_subject(t):\n",
    "    for s in t.subtrees(lambda t: t.label() == 'NP'):\n",
    "        return find_attrs(s,'NP')\n",
    "    \n",
    "def find_attrs(subtree,phrase):\n",
    "    attrs = ''\n",
    "    if phrase == 'NP':\n",
    "        for nodes in subtree:\n",
    "            if nodes[1] in ['DT','PRP$','POS','JJ','CD','ADJP','QP','NP','NNP']:\n",
    "                attrs = attrs+' '+nodes[0]\n",
    "    return attrs   \n",
    "\n",
    "def chunk_tagging(tag,chunk,text):\n",
    "    \"\"\" Tag the text using chunking.\n",
    "    \"\"\"\n",
    "    parsed_cp = nltk.RegexpParser(chunk)\n",
    "    pos_cp = parsed_cp.parse(text)\n",
    "    chunk_list=[]\n",
    "    for root in pos_cp:\n",
    "        if isinstance(root, nltk.tree.Tree):               \n",
    "            if root.label() == tag:\n",
    "                chunk_word = ''\n",
    "                for child_root in root:\n",
    "                    chunk_word = chunk_word +' '+ child_root[0]\n",
    "                chunk_list.append(chunk_word)\n",
    "    return chunk_list\n",
    "\n",
    "def analyze_using_NLU(analysistext):\n",
    "    \"\"\" Extract results from Watson Natural Language Understanding for each news item\n",
    "    \"\"\"\n",
    "    res=dict()\n",
    "    response = natural_language_understanding.analyze( \n",
    "        text=analysistext,\n",
    "        features=Features(\n",
    "                          sentiment=SentimentOptions(),\n",
    "                          entities=EntitiesOptions(), \n",
    "                          keywords=KeywordsOptions(),\n",
    "                          emotion=EmotionOptions(),\n",
    "                          concepts=ConceptsOptions(),\n",
    "                          categories=CategoriesOptions(),\n",
    "                          semantic_roles=SemanticRolesOptions()))\n",
    "    res['results']=response\n",
    "    return res\n",
    "\n"
   ]
  },
  {
   "cell_type": "code",
   "execution_count": null,
   "metadata": {},
   "outputs": [],
   "source": [
    "def hasET(company_name):\n",
    "    cnbcVal=0\n",
    "    cnbcLinks=[]\n",
    "    ET_link=[]\n",
    "    s='\"'+company_name+'\"'+' economic times'\n",
    "    res= scrape_news_summaries_google(s)\n",
    "    return res\n",
    "\n",
    "def hasTwitter(company_name):\n",
    "    cnbcVal=0\n",
    "    cnbcLinks=[]\n",
    "    ET_link=[]\n",
    "    s='\"'+company_name+'\"'+' twitter'\n",
    "    res= scrape_news_summaries_google(s)\n",
    "    return res\n",
    "\n",
    "\n",
    "def getTechAreaNews(article_text):\n",
    "    concept=''\n",
    "    relevance=''\n",
    "    if article_text != '':\n",
    "        NLUres=analyze_using_NLU(article_text)\n",
    "        \n",
    "        if len(NLUres['results']['concepts']) != 0:\n",
    "            concept=NLUres['results']['concepts'][0]['text']\n",
    "            relevance=NLUres['results']['concepts'][0]['relevance']\n",
    "        if len(NLUres['results']['sentiment']) != 0: \n",
    "            sentiment=NLUres['results']['sentiment']['document']['label']\n",
    "    return concept,relevance,sentiment\n",
    "\n",
    "def getTechArea(article_text):\n",
    "    concept=''\n",
    "    relevance=''\n",
    "    sentiment=''\n",
    "    if article_text != '':\n",
    "        NLUres=analyze_using_NLU(article_text)\n",
    "        if len(NLUres['results']['concepts']) != 0:\n",
    "            concept=NLUres['results']['concepts'][0]['text']\n",
    "            relevance=NLUres['results']['concepts'][0]['relevance']\n",
    "    return concept,relevance\n",
    "\n",
    "def hasWiki(s):\n",
    "    wikiVal=0\n",
    "    wikiLinks=[]\n",
    "    s=s.replace(' ','+')\n",
    "    link='https://en.wikipedia.org/w/index.php?search='+s+'&title=Special%3ASearch&go=Go'\n",
    "    r = requests.get(link)\n",
    "    print(r.status_code)\n",
    "    content = r.text\n",
    "    return content\n",
    "    "
   ]
  },
  {
   "cell_type": "markdown",
   "metadata": {},
   "source": [
    "## 3.1 Collect Wiki\n",
    "\n",
    "Collects info on how many Companies have an existing Wikipedia page"
   ]
  },
  {
   "cell_type": "code",
   "execution_count": null,
   "metadata": {},
   "outputs": [],
   "source": [
    "wikiList=[]\n",
    "for f in final_rows:\n",
    "    for name, info in f.items():\n",
    "        wiki=dict()\n",
    "        wiki['Company_Name']=name\n",
    "        wiki['Wiki_Concept'],wiki['Wiki_Confidence']=getTechArea(hasWiki(name))\n",
    "        wikiList.append(wiki)\n",
    "wikiList"
   ]
  },
  {
   "cell_type": "code",
   "execution_count": null,
   "metadata": {},
   "outputs": [],
   "source": [
    "keys = wikiList[0].keys()\n",
    "with open('Wiki_Blockchain.csv', 'w') as output_file:\n",
    "    dict_writer = csv.DictWriter(output_file, keys)\n",
    "    dict_writer.writeheader()\n",
    "    dict_writer.writerows(wikiList)"
   ]
  },
  {
   "cell_type": "markdown",
   "metadata": {},
   "source": [
    "## 3.2 Collect ET\n",
    "\n",
    "Collects info through google links on how many hits are articles are from ET for a particular company"
   ]
  },
  {
   "cell_type": "code",
   "execution_count": null,
   "metadata": {},
   "outputs": [],
   "source": [
    "ET=[]\n",
    "for f in final_rows:\n",
    "    for name, info in f.items():\n",
    "        temp=dict()\n",
    "        news=hasET(name)\n",
    "        for n in news:\n",
    "            flag=0\n",
    "            if 'summary' in n:\n",
    "                summary=n['summary']\n",
    "                flag=1\n",
    "            #print(summary)\n",
    "            link=n['news_link']\n",
    "            temp=dict()\n",
    "            #print('economictimes' in link)\n",
    "            if 'economictimes' in link and flag:\n",
    "                    temp['Company_Name']=name\n",
    "                    temp['News_Link']=link\n",
    "                    temp['News_Concept'],temp['News_Relevance'],temp['News_Sentiment']=getTechAreaNews(summary)\n",
    "                    ET.append(temp)\n",
    "ET"
   ]
  },
  {
   "cell_type": "code",
   "execution_count": null,
   "metadata": {},
   "outputs": [],
   "source": [
    "keys = ET[0].keys()\n",
    "with open('ET_final_Blockchain.csv', 'w') as output_file:\n",
    "    dict_writer = csv.DictWriter(output_file, keys)\n",
    "    dict_writer.writeheader()\n",
    "    dict_writer.writerows(ET)"
   ]
  },
  {
   "cell_type": "markdown",
   "metadata": {},
   "source": [
    "## 3.3 Collect Tech Area\n",
    "\n",
    "Suggests the major tech area of a company"
   ]
  },
  {
   "cell_type": "code",
   "execution_count": null,
   "metadata": {},
   "outputs": [],
   "source": [
    "tech_area=[]\n",
    "for f in final_rows:\n",
    "    for name,info in f.items():\n",
    "        temp=dict()\n",
    "        temp[\"Company_Name\"]=name\n",
    "        print(info)\n",
    "        temp[\"Technology\"],temp[\"Technology_Relevance\"]=getTechArea(info['Description'])\n",
    "        tech_area.append(temp)"
   ]
  },
  {
   "cell_type": "code",
   "execution_count": null,
   "metadata": {},
   "outputs": [],
   "source": [
    "tech_area"
   ]
  },
  {
   "cell_type": "code",
   "execution_count": null,
   "metadata": {},
   "outputs": [],
   "source": [
    "keys = tech_area[0].keys()\n",
    "with open('Tech_Area_Final_Blockchain.csv', 'w') as output_file:\n",
    "    dict_writer = csv.DictWriter(output_file, keys)\n",
    "    dict_writer.writeheader()\n",
    "    dict_writer.writerows(tech_area)"
   ]
  },
  {
   "cell_type": "markdown",
   "metadata": {},
   "source": [
    "## 3.4 Collect Twitter\n",
    "\n",
    "Collects info on how many Tweets appear on Google Search of a Company"
   ]
  },
  {
   "cell_type": "code",
   "execution_count": null,
   "metadata": {},
   "outputs": [],
   "source": [
    "Twitter=[]\n",
    "for f in final_rows:\n",
    "    for name, info in f.items():\n",
    "        temp=dict()\n",
    "        news=hasTwitter(name)\n",
    "        for n in news:\n",
    "            flag=0\n",
    "            if 'summary' in n:\n",
    "                summary=n['summary']\n",
    "                flag=1\n",
    "            #print(summary)\n",
    "            link=n['news_link']\n",
    "            temp=dict()\n",
    "            #print('economictimes' in link)\n",
    "            if 'twitter.com/'+name.lower() in link and flag:\n",
    "                    temp['name']=name\n",
    "                    temp['link']=link\n",
    "                    temp['concept'],temp['Confidence'],temp['Sentiment']=getTechAreaNews(summary)\n",
    "                    Twitter.append(temp)\n",
    "Twitter"
   ]
  },
  {
   "cell_type": "code",
   "execution_count": null,
   "metadata": {},
   "outputs": [],
   "source": [
    "keys = Twitter[0].keys()\n",
    "with open('Twitter_Blockchain.csv', 'w') as output_file:\n",
    "    dict_writer = csv.DictWriter(output_file, keys)\n",
    "    dict_writer.writeheader()\n",
    "    dict_writer.writerows(Twitter)"
   ]
  },
  {
   "cell_type": "markdown",
   "metadata": {},
   "source": [
    "## 4. Combine the Results and Save to SPSS"
   ]
  },
  {
   "cell_type": "code",
   "execution_count": null,
   "metadata": {},
   "outputs": [],
   "source": [
    "file = open(\"Tech_Area_Final_Blockchain.csv\", \"r\")\n",
    "Tech_area = pd.read_csv(file, delimiter=',')\n",
    "file = open(\"ET_final_Blockchain.csv\", \"r\")\n",
    "ET = pd.read_csv(file, delimiter=',')\n",
    "file = open(\"Wiki_Blockchain.csv\", \"r\")\n",
    "Wiki = pd.read_csv(file, delimiter=',')\n",
    "file = open(\"Twitter_Blockchain.csv\", \"r\")\n",
    "Twitter = pd.read_csv(file, delimiter=',')"
   ]
  },
  {
   "cell_type": "code",
   "execution_count": null,
   "metadata": {},
   "outputs": [],
   "source": [
    "Twitter"
   ]
  },
  {
   "cell_type": "code",
   "execution_count": null,
   "metadata": {},
   "outputs": [],
   "source": [
    "Twitter=Twitter.rename(index=str,columns={'name':'Company_Name','link':'Twitter_news_link','concept':'Twitter_Topic','confidence':'Twitter_Relevance','Sentiment':'Twitter_Sentiment'})"
   ]
  },
  {
   "cell_type": "code",
   "execution_count": null,
   "metadata": {},
   "outputs": [],
   "source": [
    "Twitter"
   ]
  },
  {
   "cell_type": "code",
   "execution_count": null,
   "metadata": {},
   "outputs": [],
   "source": [
    "a = ET.append(Wiki)"
   ]
  },
  {
   "cell_type": "code",
   "execution_count": null,
   "metadata": {},
   "outputs": [],
   "source": [
    "b=a.append(Twitter)"
   ]
  },
  {
   "cell_type": "code",
   "execution_count": null,
   "metadata": {},
   "outputs": [],
   "source": [
    "b"
   ]
  },
  {
   "cell_type": "code",
   "execution_count": null,
   "metadata": {},
   "outputs": [],
   "source": [
    "compiled_rows=pd.merge(b,Tech_area, on=\"Company_Name\")"
   ]
  },
  {
   "cell_type": "code",
   "execution_count": null,
   "metadata": {},
   "outputs": [],
   "source": [
    "compiled_rows"
   ]
  },
  {
   "cell_type": "code",
   "execution_count": null,
   "metadata": {},
   "outputs": [],
   "source": [
    "import numpy as np\n",
    "compiled_rows = compiled_rows.replace(np.nan, '', regex=True)"
   ]
  },
  {
   "cell_type": "code",
   "execution_count": null,
   "metadata": {},
   "outputs": [],
   "source": [
    "compiled_rows"
   ]
  },
  {
   "cell_type": "code",
   "execution_count": null,
   "metadata": {},
   "outputs": [],
   "source": [
    "compiled_rows['Wiki_Confidence'].fillna(0.0, inplace=True)\n",
    "compiled_rows"
   ]
  },
  {
   "cell_type": "code",
   "execution_count": null,
   "metadata": {},
   "outputs": [],
   "source": [
    "compiled_rows['Confidence'].fillna(0.0, inplace=True)\n",
    "compiled_rows"
   ]
  },
  {
   "cell_type": "code",
   "execution_count": null,
   "metadata": {},
   "outputs": [],
   "source": [
    "compiled_rows['News_Relevance'].fillna(0.0, inplace=True)\n",
    "compiled_rows"
   ]
  },
  {
   "cell_type": "code",
   "execution_count": null,
   "metadata": {},
   "outputs": [],
   "source": [
    "import numpy as np\n",
    "compiled_rows = compiled_rows.replace(np.nan, '', regex=True)"
   ]
  },
  {
   "cell_type": "markdown",
   "metadata": {},
   "source": [
    "### Store and Add table in DB2 Warehouse "
   ]
  },
  {
   "cell_type": "code",
   "execution_count": 28,
   "metadata": {},
   "outputs": [],
   "source": [
    "dsn_driver = \"IBM DB2 ODBC DRIVER\"\n",
    "dsn_database = credentials_1['database'] \n",
    "dsn_hostname = credentials_1['host']\n",
    "dsn_port = 50000               \n",
    "dsn_uid = credentials_1['username']      \n",
    "dsn_pwd = credentials_1['password']\n",
    "\n",
    "dsn = (\n",
    "    \"DRIVER={{IBM DB2 ODBC DRIVER}};\"\n",
    "    \"DATABASE=\"+str(dsn_database)+\";\"\n",
    "    \"HOSTNAME=\"+str(dsn_hostname)+\";\"\n",
    "    \"PORT=\"+str(dsn_port)+\";\"\n",
    "    \"PROTOCOL=TCPIP;\"\n",
    "    \"UID=\"+str(dsn_uid)+\";\"\n",
    "    \"PWD=\"+str(dsn_pwd)+\";\").format(dsn_database, dsn_hostname, dsn_port, dsn_uid, dsn_pwd)\n",
    "\n",
    "conn = ibm_db.connect(dsn, \"\", \"\")"
   ]
  },
  {
   "cell_type": "code",
   "execution_count": null,
   "metadata": {},
   "outputs": [],
   "source": [
    "create_statement=pd.io.sql.get_schema(compiled_rows.reset_index(), 'DATA_FOR_SPSS')\n",
    "create_statement=create_statement.replace('TEXT', 'VARCHAR(500)')\n",
    "ibm_db.exec_immediate(conn, create_statement)"
   ]
  },
  {
   "cell_type": "code",
   "execution_count": null,
   "metadata": {},
   "outputs": [],
   "source": [
    "tuple_of_tuples = tuple([tuple(x) for x in compiled_rows.values])\n",
    "i=1\n",
    "for x in compiled_rows.values:\n",
    "    vals= (i,) + tuple(x)\n",
    "    sql = \"INSERT INTO DASHXXXX.DATA_FOR_SPSS VALUES\"+ str(vals)\n",
    "    i=i+1\n",
    "    ins_sql=ibm_db.prepare(conn, sql)\n",
    "    ibm_db.execute(ins_sql)\n"
   ]
  },
  {
   "cell_type": "code",
   "execution_count": 29,
   "metadata": {},
   "outputs": [
    {
     "data": {
      "text/plain": [
       "<ibm_db.IBM_DBStatement at 0x7f88d813f370>"
      ]
     },
     "execution_count": 29,
     "metadata": {},
     "output_type": "execute_result"
    }
   ],
   "source": [
    "create_statement= 'CREATE TABLE \"DATA_FOR_COGNOS\" (\\n \"Company_Name\" VARCHAR,\\n  \"Confidence\" DECFLOAT,\\n  \"News_Concept\" VARCHAR,\\n  \"News_Link\" VARCHAR, \\n  \"News_Relevance\" DECFLOAT,\\n \"Overall_Sentiment\" VARCHAR ,\\n  \"Twitter_Topic\" VARCHAR,\\n  \"Twitter_news_link\" VARCHAR,\\n  \"Wiki_Concept\" VARCHAR,\\n \"Wiki_Confidence\" VARCHAR,\\n  \"Technology\" VARCHAR,\\n  \"Technology_Relevance\" DECFLOAT,\\n \"Company_News_Sentiments\" SMALLINT,\\n \"Company_Score\" DECFLOAT\\n)'\n",
    "create_statement=create_statement.replace('VARCHAR', 'VARCHAR(500)')\n",
    "ibm_db.exec_immediate(conn, create_statement)\n",
    "\n"
   ]
  }
 ],
 "metadata": {
  "kernelspec": {
   "display_name": "Python 3",
   "language": "python",
   "name": "python3"
  },
  "language_info": {
   "codemirror_mode": {
    "name": "ipython",
    "version": 3
   },
   "file_extension": ".py",
   "mimetype": "text/x-python",
   "name": "python",
   "nbconvert_exporter": "python",
   "pygments_lexer": "ipython3",
   "version": "3.6.5"
  }
 },
 "nbformat": 4,
 "nbformat_minor": 2
}
